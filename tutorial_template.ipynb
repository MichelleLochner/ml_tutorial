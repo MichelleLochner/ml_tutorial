{
 "cells": [
  {
   "cell_type": "markdown",
   "metadata": {},
   "source": [
    "# NASSP Observational Cosmology Machine Learning Tutorial"
   ]
  },
  {
   "cell_type": "markdown",
   "metadata": {},
   "source": [
    "## \"Your names here\""
   ]
  },
  {
   "cell_type": "markdown",
   "metadata": {},
   "source": [
    "First make sure the cell below executes without any errors. You should be running python 3. If you're not used to jupyter notebooks, have a look here https://www.datacamp.com/community/tutorials/tutorial-jupyter-notebook#gs.Dew0mVc\n",
    "\n",
    "You need to write all your code here in this notebook and submit it as part of your solutions. Answer all the questions and copy the plots you make (with captions) into your solution pdf that you'll submit."
   ]
  },
  {
   "cell_type": "code",
   "execution_count": 2,
   "metadata": {
    "collapsed": false
   },
   "outputs": [],
   "source": [
    "import numpy as np\n",
    "import matplotlib.pyplot as plt\n",
    "from sklearn.model_selection import train_test_split\n",
    "import sncosmo\n",
    "from astropy.table import Table"
   ]
  },
  {
   "cell_type": "markdown",
   "metadata": {},
   "source": [
    "# Section 1: Setup"
   ]
  },
  {
   "cell_type": "markdown",
   "metadata": {},
   "source": [
    "### How to read in a supernova light curve as an astropy table"
   ]
  },
  {
   "cell_type": "markdown",
   "metadata": {},
   "source": [
    "I've saved the supernova light curves in a format that `sncosmo` can read: an astropy table. The cell below reads in a single object's data and displays the table. \n",
    "\n",
    "The columns are: <br>\n",
    "`mjd`: Time in days since the first observation of the supernova <br>\n",
    "`filter`: Which filter band the observation is in (i.e. which colour)<br>\n",
    "`flux`: The flux (brightness) in that band<br>\n",
    "`flux_error`: Uncertainty on the flux due to instrumental noise<br>\n",
    "`zp`: What magnitude the flux is calibrated to (don't worry too much about this)<br>\n",
    "`zpsys`: The system used to calibrate the flux (also don't worry)"
   ]
  },
  {
   "cell_type": "code",
   "execution_count": 3,
   "metadata": {
    "collapsed": false
   },
   "outputs": [
    {
     "data": {
      "text/html": [
       "&lt;Table length=114&gt;\n",
       "<table id=\"table140585407023032\" class=\"table-striped table-bordered table-condensed\">\n",
       "<thead><tr><th>mjd</th><th>filter</th><th>flux</th><th>flux_error</th><th>zp</th><th>zpsys</th></tr></thead>\n",
       "<thead><tr><th>float64</th><th>str4</th><th>float64</th><th>float64</th><th>float64</th><th>str2</th></tr></thead>\n",
       "<tr><td>0.0</td><td>desg</td><td>95.18</td><td>5.147</td><td>27.5</td><td>ab</td></tr>\n",
       "<tr><td>0.00800000000163</td><td>desr</td><td>116.1</td><td>3.062</td><td>27.5</td><td>ab</td></tr>\n",
       "<tr><td>0.0239999999976</td><td>desi</td><td>102.8</td><td>3.7</td><td>27.5</td><td>ab</td></tr>\n",
       "<tr><td>0.0469999999987</td><td>desz</td><td>103.7</td><td>3.153</td><td>27.5</td><td>ab</td></tr>\n",
       "<tr><td>2.997</td><td>desg</td><td>174.7</td><td>4.272</td><td>27.5</td><td>ab</td></tr>\n",
       "<tr><td>3.004</td><td>desr</td><td>176.1</td><td>3.73</td><td>27.5</td><td>ab</td></tr>\n",
       "<tr><td>3.043</td><td>desi</td><td>165.5</td><td>3.691</td><td>27.5</td><td>ab</td></tr>\n",
       "<tr><td>3.075</td><td>desz</td><td>150.9</td><td>4.676</td><td>27.5</td><td>ab</td></tr>\n",
       "<tr><td>4.075</td><td>desg</td><td>192.3</td><td>4.531</td><td>27.5</td><td>ab</td></tr>\n",
       "<tr><td>4.09</td><td>desr</td><td>194.6</td><td>3.888</td><td>27.5</td><td>ab</td></tr>\n",
       "<tr><td>...</td><td>...</td><td>...</td><td>...</td><td>...</td><td>...</td></tr>\n",
       "<tr><td>84.934</td><td>desi</td><td>45.13</td><td>3.956</td><td>27.5</td><td>ab</td></tr>\n",
       "<tr><td>84.965</td><td>desz</td><td>30.76</td><td>3.143</td><td>27.5</td><td>ab</td></tr>\n",
       "<tr><td>96.969</td><td>desg</td><td>13.84</td><td>1.794</td><td>27.5</td><td>ab</td></tr>\n",
       "<tr><td>96.985</td><td>desr</td><td>25.37</td><td>1.319</td><td>27.5</td><td>ab</td></tr>\n",
       "<tr><td>96.997</td><td>desi</td><td>46.42</td><td>2.215</td><td>27.5</td><td>ab</td></tr>\n",
       "<tr><td>97.028</td><td>desz</td><td>31.11</td><td>2.329</td><td>27.5</td><td>ab</td></tr>\n",
       "<tr><td>104.969</td><td>desg</td><td>10.77</td><td>2.104</td><td>27.5</td><td>ab</td></tr>\n",
       "<tr><td>104.993</td><td>desr</td><td>23.86</td><td>1.366</td><td>27.5</td><td>ab</td></tr>\n",
       "<tr><td>105.012</td><td>desi</td><td>46.3</td><td>2.011</td><td>27.5</td><td>ab</td></tr>\n",
       "<tr><td>105.036</td><td>desz</td><td>32.18</td><td>2.372</td><td>27.5</td><td>ab</td></tr>\n",
       "</table>"
      ],
      "text/plain": [
       "<Table length=114>\n",
       "      mjd        filter   flux  flux_error    zp   zpsys\n",
       "    float64       str4  float64  float64   float64  str2\n",
       "---------------- ------ ------- ---------- ------- -----\n",
       "             0.0   desg   95.18      5.147    27.5    ab\n",
       "0.00800000000163   desr   116.1      3.062    27.5    ab\n",
       " 0.0239999999976   desi   102.8        3.7    27.5    ab\n",
       " 0.0469999999987   desz   103.7      3.153    27.5    ab\n",
       "           2.997   desg   174.7      4.272    27.5    ab\n",
       "           3.004   desr   176.1       3.73    27.5    ab\n",
       "           3.043   desi   165.5      3.691    27.5    ab\n",
       "           3.075   desz   150.9      4.676    27.5    ab\n",
       "           4.075   desg   192.3      4.531    27.5    ab\n",
       "            4.09   desr   194.6      3.888    27.5    ab\n",
       "             ...    ...     ...        ...     ...   ...\n",
       "          84.934   desi   45.13      3.956    27.5    ab\n",
       "          84.965   desz   30.76      3.143    27.5    ab\n",
       "          96.969   desg   13.84      1.794    27.5    ab\n",
       "          96.985   desr   25.37      1.319    27.5    ab\n",
       "          96.997   desi   46.42      2.215    27.5    ab\n",
       "          97.028   desz   31.11      2.329    27.5    ab\n",
       "         104.969   desg   10.77      2.104    27.5    ab\n",
       "         104.993   desr   23.86      1.366    27.5    ab\n",
       "         105.012   desi    46.3      2.011    27.5    ab\n",
       "         105.036   desz   32.18      2.372    27.5    ab"
      ]
     },
     "execution_count": 3,
     "metadata": {},
     "output_type": "execute_result"
    }
   ],
   "source": [
    "lc_file = 'training_data/34.dat'\n",
    "lc = Table.read(lc_file, format='ascii')\n",
    "lc"
   ]
  },
  {
   "cell_type": "markdown",
   "metadata": {},
   "source": [
    "# Section 2: Feature Extraction"
   ]
  },
  {
   "cell_type": "markdown",
   "metadata": {},
   "source": [
    "## <font color='red'> Question 1a: Briefly describe how sncosmo's fit_lc function works.</font>\n",
    "## <font color='red'> Question 1b: Briefly describe what each of the 5 parameters in the SALT2 model is.</font>"
   ]
  },
  {
   "cell_type": "markdown",
   "metadata": {},
   "source": [
    "### Use `sncosmo` to fit the SALT2 model to this light curve"
   ]
  },
  {
   "cell_type": "code",
   "execution_count": 4,
   "metadata": {
    "collapsed": true
   },
   "outputs": [],
   "source": [
    "def fit_supernova(lc):\n",
    "    bnds = {'z':(0.01, 1.5), 't0':(-100,100),'x0':(-1e-3, 1e-3), 'x1':(-3, 3), 'c':(-0.5, 0.5)}\n",
    "    mod = sncosmo.Model('salt2-extended')\n",
    "    res = sncosmo.fit_lc(lc, mod, vparam_names=mod.param_names, bounds=bnds, minsnr=0)\n",
    "    return res[0].parameters"
   ]
  },
  {
   "cell_type": "code",
   "execution_count": 5,
   "metadata": {
    "collapsed": false
   },
   "outputs": [
    {
     "name": "stdout",
     "output_type": "stream",
     "text": [
      "Best fitting SALT2 parameters: [z, t0, x0, x1, c]:\n",
      "[  3.28980013e-01   1.48530941e+01   4.22480594e-05   6.44622949e-01\n",
      "  -7.44724014e-02]\n"
     ]
    }
   ],
   "source": [
    "prms = fit_supernova(lc)\n",
    "print('Best fitting SALT2 parameters: [z, t0, x0, x1, c]:')\n",
    "print(prms)"
   ]
  },
  {
   "cell_type": "markdown",
   "metadata": {},
   "source": [
    "### Check that the fitting worked correctly by using sncosmo's plot_lc function "
   ]
  },
  {
   "cell_type": "code",
   "execution_count": 8,
   "metadata": {
    "collapsed": false
   },
   "outputs": [
    {
     "data": {
      "image/png": "[encoded data removed]",
      "text/plain": [
       "<matplotlib.figure.Figure at 0x7fdc96ab0cf8>"
      ]
     },
     "execution_count": 8,
     "metadata": {},
     "output_type": "execute_result"
    }
   ],
   "source": [
    "mod = sncosmo.Model('salt2-extended')\n",
    "mod.parameters = prms\n",
    "sncosmo.plot_lc(lc, mod)"
   ]
  },
  {
   "cell_type": "markdown",
   "metadata": {},
   "source": [
    "## Now fit all 1000 light curves in the training data and save the parameters to file"
   ]
  },
  {
   "cell_type": "markdown",
   "metadata": {},
   "source": [
    "These will be our features for the machine learning. Your final array should have dimensions [1000, 5] because there are 5 features (the SALT2 parameters). \n",
    "\n",
    "**NB** This will take around 30 minutes at least (unless you know how to parallelise it) so run this before the tutorial session and save these features to disk."
   ]
  },
  {
   "cell_type": "code",
   "execution_count": null,
   "metadata": {
    "collapsed": true
   },
   "outputs": [],
   "source": []
  },
  {
   "cell_type": "markdown",
   "metadata": {},
   "source": [
    "## <font color='red'> Question 2: Run plot_lc and make plots for data files 3, 4 and 5. Why do some of these fit badly? "
   ]
  },
  {
   "cell_type": "code",
   "execution_count": null,
   "metadata": {
    "collapsed": true
   },
   "outputs": [],
   "source": []
  },
  {
   "cell_type": "markdown",
   "metadata": {},
   "source": [
    "## <font color='red'> Question 3: Plot histograms for the x1 and c parameters, colouring the Ia's and the non-Ia's different colours. Do you notice any differences between the two types?"
   ]
  },
  {
   "cell_type": "code",
   "execution_count": null,
   "metadata": {
    "collapsed": true
   },
   "outputs": [],
   "source": []
  },
  {
   "cell_type": "markdown",
   "metadata": {},
   "source": [
    "# Section 3: Machine Learning with Scikit-Learn"
   ]
  },
  {
   "cell_type": "markdown",
   "metadata": {},
   "source": [
    "You need to run 3 machine learning algorithms on your set of SALT2 features, at least ONE of which must NOT have been covered in the class (i.e. you may use a maximum of two of: k-nearest neighbours, neural networks and ensemble methods with decision trees)"
   ]
  },
  {
   "cell_type": "markdown",
   "metadata": {},
   "source": [
    "Remember to divide up your labeled data into a training and a validation set so that you can evaluate your algorithms. "
   ]
  },
  {
   "cell_type": "markdown",
   "metadata": {
    "collapsed": true
   },
   "source": [
    "## <font color='red'>Question 4: For each of the three algorithms you are using, answer the following:\n",
    "1. Does the algorithm you're using require the features to be rescaled (http://scikit-learn.org/stable/modules/preprocessing.html )? If so, what did you use to rescale them?\n",
    "2. What values of the hyperparameters of the algorithm did you use? How did you select them (consider investigating scikit-learn's `GridSearchCV` function)?\n",
    "3. How much data are you using to evaluate the algorithms?"
   ]
  },
  {
   "cell_type": "code",
   "execution_count": null,
   "metadata": {
    "collapsed": true
   },
   "outputs": [],
   "source": []
  },
  {
   "cell_type": "markdown",
   "metadata": {},
   "source": [
    "# Section 4: Evaluating the Classification"
   ]
  },
  {
   "cell_type": "markdown",
   "metadata": {},
   "source": [
    "For this section you'll need the `roc_curve` and `predict_proba` functions from sklearn."
   ]
  },
  {
   "cell_type": "markdown",
   "metadata": {
    "collapsed": true
   },
   "source": [
    "## <font color='red'> Question 5: On one figure, plot the ROC curve for each of your classifiers and include the name of the classifier and the calculated AUC in the legend."
   ]
  },
  {
   "cell_type": "code",
   "execution_count": null,
   "metadata": {
    "collapsed": true
   },
   "outputs": [],
   "source": []
  },
  {
   "cell_type": "markdown",
   "metadata": {},
   "source": [
    "# Section 5: Test Data Analysis"
   ]
  },
  {
   "cell_type": "markdown",
   "metadata": {},
   "source": [
    "First, repeat the above procedure to extract features from the test data. Remember to save your features to disk so you don't have to rerun it!"
   ]
  },
  {
   "cell_type": "markdown",
   "metadata": {},
   "source": [
    "Next, use your best _trained classifier_ to predict the probabilities of the test objects (use `predict_proba` function of your classifier). Save these to a text file, that will look like this:<br>\n",
    "\n",
    "`#ID    prob(Ia)    prob(II)    prob(Ibc)` <br>\n",
    "`1000   0.87        0.03        0.1 `    <br>\n",
    "`1001   0.25        0.04        0.79  `  <br>\n",
    "`...`"
   ]
  },
  {
   "cell_type": "code",
   "execution_count": null,
   "metadata": {
    "collapsed": true
   },
   "outputs": [],
   "source": []
  }
 ],
 "metadata": {
  "anaconda-cloud": {},
  "kernelspec": {
   "display_name": "Python [conda env:py3]",
   "language": "python",
   "name": "conda-env-py3-py"
  },
  "language_info": {
   "codemirror_mode": {
    "name": "ipython",
    "version": 3
   },
   "file_extension": ".py",
   "mimetype": "text/x-python",
   "name": "python",
   "nbconvert_exporter": "python",
   "pygments_lexer": "ipython3",
   "version": "3.5.2"
  }
 },
 "nbformat": 4,
 "nbformat_minor": 2
}
